{
 "cells": [
  {
   "cell_type": "markdown",
   "id": "678c6a04",
   "metadata": {},
   "source": [
    "# Movie Review Sentiment Analysis"
   ]
  },
  {
   "cell_type": "markdown",
   "id": "c5701a12",
   "metadata": {},
   "source": [
    "### In this project, I will analyze the sentiments behind the review and comments of viewers in perticular movie"
   ]
  },
  {
   "cell_type": "code",
   "execution_count": 2,
   "id": "f2856a52",
   "metadata": {},
   "outputs": [],
   "source": [
    "import nltk\n",
    "import nltk.classify.util\n",
    "from nltk.classify import NaiveBayesClassifier\n",
    "from nltk.corpus import movie_reviews"
   ]
  },
  {
   "cell_type": "code",
   "execution_count": 3,
   "id": "f429add9",
   "metadata": {},
   "outputs": [
    {
     "name": "stderr",
     "output_type": "stream",
     "text": [
      "[nltk_data] Downloading package movie_reviews to\n",
      "[nltk_data]     C:\\Users\\SACHIN\\AppData\\Roaming\\nltk_data...\n",
      "[nltk_data]   Unzipping corpora\\movie_reviews.zip.\n"
     ]
    },
    {
     "data": {
      "text/plain": [
       "True"
      ]
     },
     "execution_count": 3,
     "metadata": {},
     "output_type": "execute_result"
    }
   ],
   "source": [
    "# Downloading Dataset\n",
    "nltk.download('movie_reviews')"
   ]
  },
  {
   "cell_type": "code",
   "execution_count": 4,
   "id": "3c6118d8",
   "metadata": {},
   "outputs": [],
   "source": [
    "def extract_features(word_list):\n",
    "    return dict([(word, True) for word in word_list])"
   ]
  },
  {
   "cell_type": "code",
   "execution_count": 6,
   "id": "ad5aea7e",
   "metadata": {},
   "outputs": [],
   "source": [
    "if __name__ == '__main__':\n",
    "    # Loading positive and negative reviews\n",
    "    positive_fileids = movie_reviews.fileids('pos')\n",
    "    negative_fileids = movie_reviews.fileids('neg')"
   ]
  },
  {
   "cell_type": "code",
   "execution_count": 7,
   "id": "bbeffec9",
   "metadata": {},
   "outputs": [],
   "source": [
    "features_positive = [(extract_features(movie_reviews.words(fileids=[f])), 'positive') for f in positive_fileids]\n",
    "features_negative = [(extract_features(movie_reviews.words(fileids=[f])), 'negative') for f in negative_fileids]"
   ]
  },
  {
   "cell_type": "code",
   "execution_count": 8,
   "id": "57c840c5",
   "metadata": {},
   "outputs": [],
   "source": [
    "# Split the data into train and test dataset (80 by 20)\n",
    "threshold_factor = 0.8\n",
    "threshold_positive = int(threshold_factor * len(features_positive))\n",
    "threshold_negative = int(threshold_factor * len(features_negative))"
   ]
  },
  {
   "cell_type": "code",
   "execution_count": 12,
   "id": "5744364c",
   "metadata": {},
   "outputs": [],
   "source": [
    "features_train = features_positive[:threshold_positive] + features_negative[:threshold_negative]\n",
    "features_test = features_positive[threshold_positive:] + features_negative[threshold_negative:]"
   ]
  },
  {
   "cell_type": "code",
   "execution_count": 13,
   "id": "bca886fb",
   "metadata": {},
   "outputs": [
    {
     "name": "stdout",
     "output_type": "stream",
     "text": [
      "Number of Training Datapoints: 1600\n",
      "Number of Testing Datapoints: 400\n"
     ]
    }
   ],
   "source": [
    "print(f\"Number of Training Datapoints: {len(features_train)}\")\n",
    "print(f\"Number of Testing Datapoints: {len(features_test)}\")"
   ]
  },
  {
   "cell_type": "code",
   "execution_count": 15,
   "id": "8b0c3d2a",
   "metadata": {},
   "outputs": [
    {
     "name": "stdout",
     "output_type": "stream",
     "text": [
      "Accuracy of the classifier on Training Dataset:  0.9825\n",
      "Accuracy of the classifier on Testing Dataset:  0.735\n"
     ]
    }
   ],
   "source": [
    "# Train the NaiveBayes Classifier\n",
    "classifier = NaiveBayesClassifier.train(features_train)\n",
    "print(\"Accuracy of the classifier on Training Dataset: \", nltk.classify.util.accuracy(classifier, features_train))\n",
    "print(\"Accuracy of the classifier on Testing Dataset: \", nltk.classify.util.accuracy(classifier, features_test))"
   ]
  },
  {
   "cell_type": "code",
   "execution_count": 17,
   "id": "3a349549",
   "metadata": {},
   "outputs": [
    {
     "name": "stdout",
     "output_type": "stream",
     "text": [
      "\n",
      " Top 10 most Important Words\n",
      "outstanding\n",
      "insulting\n",
      "vulnerable\n",
      "ludicrous\n",
      "uninvolving\n",
      "astounding\n",
      "avoids\n",
      "fascination\n",
      "affecting\n",
      "animators\n"
     ]
    }
   ],
   "source": [
    "# Most important words in our dataset that do movie review sentiment analysis\n",
    "print('\\n Top 10 most Important Words')\n",
    "for item in classifier.most_informative_features()[:10]:\n",
    "    print(item[0])"
   ]
  },
  {
   "cell_type": "code",
   "execution_count": 18,
   "id": "94930e53",
   "metadata": {},
   "outputs": [],
   "source": [
    "# Sample input review\n",
    "input_reviews = [\n",
    "    \"It is an amazing movie\",\n",
    "    \"This is a dull moviue. I would never recommend it to anyone\",\n",
    "    \"The cinematography is preety great in this movie\",\n",
    "    \"The movie is pathetic!\",\n",
    "    \"The direction was terrible and the story was all over the place\", \n",
    "    \"I loved the movie!\"\n",
    "]"
   ]
  },
  {
   "cell_type": "code",
   "execution_count": 23,
   "id": "7fe2a7dc",
   "metadata": {},
   "outputs": [
    {
     "name": "stdout",
     "output_type": "stream",
     "text": [
      "\n",
      "Predictions...\n",
      "\n",
      "Review:  The movie is pathetic!\n",
      "Predicted Sentiments:  negative\n",
      "Probability:  0.52\n",
      "\n",
      "Review:  The cinematography is preety great in this movie\n",
      "Predicted Sentiments:  positive\n",
      "Probability:  0.73\n",
      "\n",
      "Review:  The direction was terrible and the story was all over the place\n",
      "Predicted Sentiments:  negative\n",
      "Probability:  0.63\n",
      "\n",
      "Review:  This is a dull moviue. I would never recommend it to anyone\n",
      "Predicted Sentiments:  negative\n",
      "Probability:  0.79\n",
      "\n",
      "Review:  It is an amazing movie\n",
      "Predicted Sentiments:  positive\n",
      "Probability:  0.61\n"
     ]
    }
   ],
   "source": [
    "print(\"\\nPredictions...\")\n",
    "for review in input_reviews:\n",
    "    print('\\nReview: ', review)\n",
    "    probdist = classifier.prob_classify(extract_features(review.split()))\n",
    "    pred_sentiment = probdist.max()\n",
    "    print(\"Predicted Sentiments: \", pred_sentiment)\n",
    "    print(\"Probability: \", round(probdist.prob(pred_sentiment), 2))"
   ]
  }
 ],
 "metadata": {
  "kernelspec": {
   "display_name": "Python 3.9.4 64-bit",
   "language": "python",
   "name": "python39464bit6f1e7ad1534a4a56b3d3194530af8618"
  },
  "language_info": {
   "codemirror_mode": {
    "name": "ipython",
    "version": 3
   },
   "file_extension": ".py",
   "mimetype": "text/x-python",
   "name": "python",
   "nbconvert_exporter": "python",
   "pygments_lexer": "ipython3",
   "version": "3.9.7"
  }
 },
 "nbformat": 4,
 "nbformat_minor": 5
}
